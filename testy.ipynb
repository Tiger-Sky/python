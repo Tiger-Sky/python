{
 "cells": [
  {
   "cell_type": "code",
   "execution_count": 256,
   "metadata": {},
   "outputs": [
    {
     "data": {
      "text/html": [
       "<div>\n",
       "<style scoped>\n",
       "    .dataframe tbody tr th:only-of-type {\n",
       "        vertical-align: middle;\n",
       "    }\n",
       "\n",
       "    .dataframe tbody tr th {\n",
       "        vertical-align: top;\n",
       "    }\n",
       "\n",
       "    .dataframe thead th {\n",
       "        text-align: right;\n",
       "    }\n",
       "</style>\n",
       "<table border=\"1\" class=\"dataframe\">\n",
       "  <thead>\n",
       "    <tr style=\"text-align: right;\">\n",
       "      <th></th>\n",
       "      <th>1</th>\n",
       "      <th>Mickéy Mousé</th>\n",
       "      <th>56</th>\n",
       "      <th>70kgs</th>\n",
       "      <th>72</th>\n",
       "      <th>69</th>\n",
       "      <th>71</th>\n",
       "      <th>-</th>\n",
       "      <th>-.1</th>\n",
       "      <th>-.2</th>\n",
       "    </tr>\n",
       "  </thead>\n",
       "  <tbody>\n",
       "    <tr>\n",
       "      <th>0</th>\n",
       "      <td>2.0</td>\n",
       "      <td>Donald Duck</td>\n",
       "      <td>34.0</td>\n",
       "      <td>154.89lbs</td>\n",
       "      <td>-</td>\n",
       "      <td>-</td>\n",
       "      <td>-</td>\n",
       "      <td>85</td>\n",
       "      <td>84</td>\n",
       "      <td>76</td>\n",
       "    </tr>\n",
       "    <tr>\n",
       "      <th>1</th>\n",
       "      <td>3.0</td>\n",
       "      <td>Mini Mouse</td>\n",
       "      <td>16.0</td>\n",
       "      <td>NaN</td>\n",
       "      <td>-</td>\n",
       "      <td>-</td>\n",
       "      <td>-</td>\n",
       "      <td>65</td>\n",
       "      <td>69</td>\n",
       "      <td>72</td>\n",
       "    </tr>\n",
       "    <tr>\n",
       "      <th>2</th>\n",
       "      <td>4.0</td>\n",
       "      <td>Scrooge McDuck</td>\n",
       "      <td>NaN</td>\n",
       "      <td>78kgs</td>\n",
       "      <td>78</td>\n",
       "      <td>79</td>\n",
       "      <td>72</td>\n",
       "      <td>-</td>\n",
       "      <td>-</td>\n",
       "      <td>-</td>\n",
       "    </tr>\n",
       "    <tr>\n",
       "      <th>3</th>\n",
       "      <td>5.0</td>\n",
       "      <td>Pink Panther</td>\n",
       "      <td>54.0</td>\n",
       "      <td>198.658lbs</td>\n",
       "      <td>-</td>\n",
       "      <td>-</td>\n",
       "      <td>-</td>\n",
       "      <td>69</td>\n",
       "      <td>NaN</td>\n",
       "      <td>75</td>\n",
       "    </tr>\n",
       "    <tr>\n",
       "      <th>4</th>\n",
       "      <td>6.0</td>\n",
       "      <td>Huey McDuck</td>\n",
       "      <td>52.0</td>\n",
       "      <td>189lbs</td>\n",
       "      <td>-</td>\n",
       "      <td>-</td>\n",
       "      <td>-</td>\n",
       "      <td>68</td>\n",
       "      <td>75</td>\n",
       "      <td>72</td>\n",
       "    </tr>\n",
       "  </tbody>\n",
       "</table>\n",
       "</div>"
      ],
      "text/plain": [
       "     1    Mickéy Mousé    56       70kgs  72  69  71   -  -.1 -.2\n",
       "0  2.0     Donald Duck  34.0   154.89lbs   -   -   -  85   84  76\n",
       "1  3.0      Mini Mouse  16.0         NaN   -   -   -  65   69  72\n",
       "2  4.0  Scrooge McDuck   NaN       78kgs  78  79  72   -    -   -\n",
       "3  5.0    Pink Panther  54.0  198.658lbs   -   -   -  69  NaN  75\n",
       "4  6.0     Huey McDuck  52.0      189lbs   -   -   -  68   75  72"
      ]
     },
     "execution_count": 256,
     "metadata": {},
     "output_type": "execute_result"
    }
   ],
   "source": [
    "import pandas as pd\n",
    "import numpy as np\n",
    "df = pd.read_csv(\"/home/swcyen/DataAna/data/patient_heart_rate.csv\", on_bad_lines='skip')\n",
    "df.head()"
   ]
  },
  {
   "attachments": {},
   "cell_type": "markdown",
   "metadata": {},
   "source": [
    "missing header problem"
   ]
  },
  {
   "cell_type": "code",
   "execution_count": 257,
   "metadata": {},
   "outputs": [
    {
     "name": "stdout",
     "output_type": "stream",
     "text": [
      "      id            name   age      weight m0006 m0612 m1218 f0006 f0612 f1218\n",
      "0    1.0    Mickéy Mousé  56.0       70kgs    72    69    71     -     -     -\n",
      "1    2.0     Donald Duck  34.0   154.89lbs     -     -     -    85    84    76\n",
      "2    3.0      Mini Mouse  16.0         NaN     -     -     -    65    69    72\n",
      "3    4.0  Scrooge McDuck   NaN       78kgs    78    79    72     -     -     -\n",
      "4    5.0    Pink Panther  54.0  198.658lbs     -     -     -    69   NaN    75\n",
      "5    6.0     Huey McDuck  52.0      189lbs     -     -     -    68    75    72\n",
      "6    7.0    Dewey McDuck  19.0       56kgs     -     -     -    71    78    75\n",
      "7    8.0      Scööpy Doo  32.0       78kgs    78    76    75     -     -     -\n",
      "8    NaN             NaN   NaN         NaN   NaN   NaN   NaN   NaN   NaN   NaN\n",
      "9    NaN             NaN   NaN         NaN   NaN   NaN   NaN   NaN   NaN   NaN\n",
      "10   9.0     Huey McDuck  52.0      189lbs     -     -     -    68    75    72\n",
      "11  10.0    Louie McDuck  12.0       45kgs     -     -     -    92    95    87\n",
      "12  11.0       Henry Nam   NaN       60kgs    78    75    72     -     -     -\n",
      "13  12.0     Michel Long  34.0         NaN    65    67    55     -     -     -\n",
      "14  13.0      Tana Ricky   NaN         NaN     -     -     -    68    72    70\n",
      "15  15.0             NaN  52.0      180lbs     -     -     -    68    75    72\n"
     ]
    }
   ],
   "source": [
    "columns_names = ['id','name','age','weight','m0006','m0612','m1218','f0006','f0612','f1218']\n",
    "df = pd.read_csv(\"/home/swcyen/DataAna/data/patient_heart_rate.csv\",on_bad_lines='skip',names = columns_names)\n",
    "print(df)"
   ]
  },
  {
   "attachments": {},
   "cell_type": "markdown",
   "metadata": {},
   "source": [
    "split name into firstname and lastname"
   ]
  },
  {
   "cell_type": "code",
   "execution_count": 258,
   "metadata": {},
   "outputs": [
    {
     "name": "stdout",
     "output_type": "stream",
     "text": [
      "      id   age      weight m0006 m0612 m1218 f0006 f0612 f1218 Firstname  \\\n",
      "0    1.0  56.0       70kgs    72    69    71     -     -     -    Mickéy   \n",
      "1    2.0  34.0   154.89lbs     -     -     -    85    84    76    Donald   \n",
      "2    3.0  16.0         NaN     -     -     -    65    69    72      Mini   \n",
      "3    4.0   NaN       78kgs    78    79    72     -     -     -   Scrooge   \n",
      "4    5.0  54.0  198.658lbs     -     -     -    69   NaN    75      Pink   \n",
      "5    6.0  52.0      189lbs     -     -     -    68    75    72      Huey   \n",
      "6    7.0  19.0       56kgs     -     -     -    71    78    75     Dewey   \n",
      "7    8.0  32.0       78kgs    78    76    75     -     -     -    Scööpy   \n",
      "8    NaN   NaN         NaN   NaN   NaN   NaN   NaN   NaN   NaN       NaN   \n",
      "9    NaN   NaN         NaN   NaN   NaN   NaN   NaN   NaN   NaN       NaN   \n",
      "10   9.0  52.0      189lbs     -     -     -    68    75    72      Huey   \n",
      "11  10.0  12.0       45kgs     -     -     -    92    95    87     Louie   \n",
      "12  11.0   NaN       60kgs    78    75    72     -     -     -     Henry   \n",
      "13  12.0  34.0         NaN    65    67    55     -     -     -    Michel   \n",
      "14  13.0   NaN         NaN     -     -     -    68    72    70      Tana   \n",
      "15  15.0  52.0      180lbs     -     -     -    68    75    72       NaN   \n",
      "\n",
      "   Lastname  \n",
      "0     Mousé  \n",
      "1      Duck  \n",
      "2     Mouse  \n",
      "3    McDuck  \n",
      "4   Panther  \n",
      "5    McDuck  \n",
      "6    McDuck  \n",
      "7       Doo  \n",
      "8       NaN  \n",
      "9       NaN  \n",
      "10   McDuck  \n",
      "11   McDuck  \n",
      "12      Nam  \n",
      "13     Long  \n",
      "14    Ricky  \n",
      "15      NaN  \n"
     ]
    }
   ],
   "source": [
    "df[['Firstname','Lastname']] = df['name'].str.split(expand=True)\n",
    "df = df.drop('name', axis= 1)\n",
    "print(df)"
   ]
  },
  {
   "attachments": {},
   "cell_type": "markdown",
   "metadata": {},
   "source": [
    "convert pound to kg"
   ]
  },
  {
   "cell_type": "code",
   "execution_count": 259,
   "metadata": {},
   "outputs": [
    {
     "name": "stdout",
     "output_type": "stream",
     "text": [
      "      id   age weight m0006 m0612 m1218 f0006 f0612 f1218 Firstname Lastname\n",
      "0    1.0  56.0  70kgs    72    69    71     -     -     -    Mickéy    Mousé\n",
      "1    2.0  34.0  70kgs     -     -     -    85    84    76    Donald     Duck\n",
      "2    3.0  16.0    NaN     -     -     -    65    69    72      Mini    Mouse\n",
      "3    4.0   NaN  78kgs    78    79    72     -     -     -   Scrooge   McDuck\n",
      "4    5.0  54.0  90kgs     -     -     -    69   NaN    75      Pink  Panther\n",
      "5    6.0  52.0  85kgs     -     -     -    68    75    72      Huey   McDuck\n",
      "6    7.0  19.0  56kgs     -     -     -    71    78    75     Dewey   McDuck\n",
      "7    8.0  32.0  78kgs    78    76    75     -     -     -    Scööpy      Doo\n",
      "8    NaN   NaN    NaN   NaN   NaN   NaN   NaN   NaN   NaN       NaN      NaN\n",
      "9    NaN   NaN    NaN   NaN   NaN   NaN   NaN   NaN   NaN       NaN      NaN\n",
      "10   9.0  52.0  85kgs     -     -     -    68    75    72      Huey   McDuck\n",
      "11  10.0  12.0  45kgs     -     -     -    92    95    87     Louie   McDuck\n",
      "12  11.0   NaN  60kgs    78    75    72     -     -     -     Henry      Nam\n",
      "13  12.0  34.0    NaN    65    67    55     -     -     -    Michel     Long\n",
      "14  13.0   NaN    NaN     -     -     -    68    72    70      Tana    Ricky\n",
      "15  15.0  52.0  81kgs     -     -     -    68    75    72       NaN      NaN\n"
     ]
    },
    {
     "name": "stderr",
     "output_type": "stream",
     "text": [
      "/tmp/ipykernel_12565/3110440257.py:10: SettingWithCopyWarning: \n",
      "A value is trying to be set on a copy of a slice from a DataFrame\n",
      "\n",
      "See the caveats in the documentation: https://pandas.pydata.org/pandas-docs/stable/user_guide/indexing.html#returning-a-view-versus-a-copy\n",
      "  weight[i] = y\n"
     ]
    }
   ],
   "source": [
    "weight = df['weight']\n",
    "\n",
    "for i in range(0,len(weight)):\n",
    "    x = str(weight[i])\n",
    "    if 'lbs' in x[-3:]:\n",
    "        x = x[:-3:]\n",
    "        float_x = float(x)\n",
    "        y = int(float_x/2.2)\n",
    "        y = str(y) + 'kgs'\n",
    "        weight[i] = y\n",
    "\n",
    "print(df)"
   ]
  },
  {
   "attachments": {},
   "cell_type": "markdown",
   "metadata": {},
   "source": [
    "remove NaN"
   ]
  },
  {
   "cell_type": "code",
   "execution_count": 260,
   "metadata": {},
   "outputs": [
    {
     "name": "stdout",
     "output_type": "stream",
     "text": [
      "      id   age weight m0006 m0612 m1218 f0006 f0612 f1218 Firstname Lastname\n",
      "0    1.0  56.0  70kgs    72    69    71     -     -     -    Mickéy    Mousé\n",
      "1    2.0  34.0  70kgs     -     -     -    85    84    76    Donald     Duck\n",
      "2    3.0  16.0    NaN     -     -     -    65    69    72      Mini    Mouse\n",
      "3    4.0   NaN  78kgs    78    79    72     -     -     -   Scrooge   McDuck\n",
      "4    5.0  54.0  90kgs     -     -     -    69   NaN    75      Pink  Panther\n",
      "5    6.0  52.0  85kgs     -     -     -    68    75    72      Huey   McDuck\n",
      "6    7.0  19.0  56kgs     -     -     -    71    78    75     Dewey   McDuck\n",
      "7    8.0  32.0  78kgs    78    76    75     -     -     -    Scööpy      Doo\n",
      "10   9.0  52.0  85kgs     -     -     -    68    75    72      Huey   McDuck\n",
      "11  10.0  12.0  45kgs     -     -     -    92    95    87     Louie   McDuck\n",
      "12  11.0   NaN  60kgs    78    75    72     -     -     -     Henry      Nam\n",
      "13  12.0  34.0    NaN    65    67    55     -     -     -    Michel     Long\n",
      "14  13.0   NaN    NaN     -     -     -    68    72    70      Tana    Ricky\n",
      "15  15.0  52.0  81kgs     -     -     -    68    75    72       NaN      NaN\n"
     ]
    }
   ],
   "source": [
    "df.dropna(how='all',inplace= True)\n",
    "print(df)"
   ]
  },
  {
   "attachments": {},
   "cell_type": "markdown",
   "metadata": {},
   "source": [
    "remove dup"
   ]
  },
  {
   "cell_type": "code",
   "execution_count": 261,
   "metadata": {},
   "outputs": [
    {
     "name": "stdout",
     "output_type": "stream",
     "text": [
      "      id   age weight m0006 m0612 m1218 f0006 f0612 f1218 Firstname Lastname\n",
      "0    1.0  56.0  70kgs    72    69    71     -     -     -    Mickéy    Mousé\n",
      "1    2.0  34.0  70kgs     -     -     -    85    84    76    Donald     Duck\n",
      "2    3.0  16.0    NaN     -     -     -    65    69    72      Mini    Mouse\n",
      "3    4.0   NaN  78kgs    78    79    72     -     -     -   Scrooge   McDuck\n",
      "4    5.0  54.0  90kgs     -     -     -    69   NaN    75      Pink  Panther\n",
      "5    6.0  52.0  85kgs     -     -     -    68    75    72      Huey   McDuck\n",
      "6    7.0  19.0  56kgs     -     -     -    71    78    75     Dewey   McDuck\n",
      "7    8.0  32.0  78kgs    78    76    75     -     -     -    Scööpy      Doo\n",
      "11  10.0  12.0  45kgs     -     -     -    92    95    87     Louie   McDuck\n",
      "12  11.0   NaN  60kgs    78    75    72     -     -     -     Henry      Nam\n",
      "13  12.0  34.0    NaN    65    67    55     -     -     -    Michel     Long\n",
      "14  13.0   NaN    NaN     -     -     -    68    72    70      Tana    Ricky\n",
      "15  15.0  52.0  81kgs     -     -     -    68    75    72       NaN      NaN\n"
     ]
    }
   ],
   "source": [
    "df = df.drop_duplicates(subset=['Firstname','Lastname','age','weight'])\n",
    "print(df)"
   ]
  },
  {
   "attachments": {},
   "cell_type": "markdown",
   "metadata": {},
   "source": [
    "non-ASCII"
   ]
  },
  {
   "cell_type": "code",
   "execution_count": 262,
   "metadata": {},
   "outputs": [
    {
     "name": "stdout",
     "output_type": "stream",
     "text": [
      "      id   age weight m0006 m0612 m1218 f0006 f0612 f1218 Firstname Lastname\n",
      "0    1.0  56.0  70kgs    72    69    71     -     -     -     Micky     Mous\n",
      "1    2.0  34.0  70kgs     -     -     -    85    84    76    Donald     Duck\n",
      "2    3.0  16.0    NaN     -     -     -    65    69    72      Mini    Mouse\n",
      "3    4.0   NaN  78kgs    78    79    72     -     -     -   Scrooge   McDuck\n",
      "4    5.0  54.0  90kgs     -     -     -    69   NaN    75      Pink  Panther\n",
      "5    6.0  52.0  85kgs     -     -     -    68    75    72      Huey   McDuck\n",
      "6    7.0  19.0  56kgs     -     -     -    71    78    75     Dewey   McDuck\n",
      "7    8.0  32.0  78kgs    78    76    75     -     -     -      Scpy      Doo\n",
      "11  10.0  12.0  45kgs     -     -     -    92    95    87     Louie   McDuck\n",
      "12  11.0   NaN  60kgs    78    75    72     -     -     -     Henry      Nam\n",
      "13  12.0  34.0    NaN    65    67    55     -     -     -    Michel     Long\n",
      "14  13.0   NaN    NaN     -     -     -    68    72    70      Tana    Ricky\n",
      "15  15.0  52.0  81kgs     -     -     -    68    75    72       NaN      NaN\n"
     ]
    }
   ],
   "source": [
    "df['Firstname'].replace({r'[^\\x00-\\x7F]+':''}, inplace=True, regex=True)\n",
    "df['Lastname'].replace({r'[^\\x00-\\x7F]+':''},  inplace=True, regex=True)\n",
    "print(df)"
   ]
  },
  {
   "attachments": {},
   "cell_type": "markdown",
   "metadata": {},
   "source": [
    "remove wrong column"
   ]
  },
  {
   "cell_type": "code",
   "execution_count": 263,
   "metadata": {},
   "outputs": [
    {
     "name": "stdout",
     "output_type": "stream",
     "text": [
      "      id   age weight m0006 m0612 m1218 f0006 f0612 f1218 Firstname Lastname\n",
      "0    1.0  56.0  70kgs    72    69    71     -     -     -     Micky     Mous\n",
      "1    2.0  34.0  70kgs     -     -     -    85    84    76    Donald     Duck\n",
      "2    3.0  16.0    NaN     -     -     -    65    69    72      Mini    Mouse\n",
      "3    4.0   NaN  78kgs    78    79    72     -     -     -   Scrooge   McDuck\n",
      "4    5.0  54.0  90kgs     -     -     -    69   NaN    75      Pink  Panther\n",
      "5    6.0  52.0  85kgs     -     -     -    68    75    72      Huey   McDuck\n",
      "6    7.0  19.0  56kgs     -     -     -    71    78    75     Dewey   McDuck\n",
      "7    8.0  32.0  78kgs    78    76    75     -     -     -      Scpy      Doo\n",
      "11  10.0  12.0  45kgs     -     -     -    92    95    87     Louie   McDuck\n",
      "12  11.0   NaN  60kgs    78    75    72     -     -     -     Henry      Nam\n",
      "13  12.0  34.0    NaN    65    67    55     -     -     -    Michel     Long\n",
      "15  15.0  52.0  81kgs     -     -     -    68    75    72       NaN      NaN\n"
     ]
    }
   ],
   "source": [
    "df = df.dropna(subset=['age','weight'],how='all')\n",
    "print(df)"
   ]
  },
  {
   "attachments": {},
   "cell_type": "markdown",
   "metadata": {},
   "source": [
    "add column to df"
   ]
  },
  {
   "cell_type": "code",
   "execution_count": 264,
   "metadata": {},
   "outputs": [
    {
     "name": "stdout",
     "output_type": "stream",
     "text": [
      "    0   1   2\n",
      "0   m  00  06\n",
      "12  m  06  12\n",
      "24  m  12  18\n",
      "36  f  00  06\n",
      "48  f  06  12\n",
      ".. ..  ..  ..\n",
      "23  m  06  12\n",
      "35  m  12  18\n",
      "47  f  00  06\n",
      "59  f  06  12\n",
      "71  f  12  18\n",
      "\n",
      "[72 rows x 3 columns]\n",
      "      id   age weight Firstname Lastname Pulserate sex   time\n",
      "0    1.0  56.0  70kgs     Micky     Mous        72   m  00-06\n",
      "12   1.0  56.0  70kgs     Micky     Mous        69   m  06-12\n",
      "24   1.0  56.0  70kgs     Micky     Mous        71   m  12-18\n",
      "37   2.0  34.0  70kgs    Donald     Duck        85   f  00-06\n",
      "49   2.0  34.0  70kgs    Donald     Duck        84   f  06-12\n",
      "61   2.0  34.0  70kgs    Donald     Duck        76   f  12-18\n",
      "40   5.0  54.0  90kgs      Pink  Panther        69   f  00-06\n",
      "64   5.0  54.0  90kgs      Pink  Panther        75   f  12-18\n",
      "41   6.0  52.0  85kgs      Huey   McDuck        68   f  00-06\n",
      "53   6.0  52.0  85kgs      Huey   McDuck        75   f  06-12\n",
      "65   6.0  52.0  85kgs      Huey   McDuck        72   f  12-18\n",
      "42   7.0  19.0  56kgs     Dewey   McDuck        71   f  00-06\n",
      "54   7.0  19.0  56kgs     Dewey   McDuck        78   f  06-12\n",
      "66   7.0  19.0  56kgs     Dewey   McDuck        75   f  12-18\n",
      "7    8.0  32.0  78kgs      Scpy      Doo        78   m  00-06\n",
      "19   8.0  32.0  78kgs      Scpy      Doo        76   m  06-12\n",
      "31   8.0  32.0  78kgs      Scpy      Doo        75   m  12-18\n",
      "44  10.0  12.0  45kgs     Louie   McDuck        92   f  00-06\n",
      "56  10.0  12.0  45kgs     Louie   McDuck        95   f  06-12\n",
      "68  10.0  12.0  45kgs     Louie   McDuck        87   f  12-18\n"
     ]
    }
   ],
   "source": [
    "df = pd.melt(df,id_vars=['id','age','weight','Firstname', 'Lastname'],value_name=\"Pulserate\",var_name='sex_and_time').sort_values(['id','age','weight','Firstname', 'Lastname'])\n",
    "tmp_df = df['sex_and_time'].str.extract(\"(\\D)(\\d+)(\\d{2})\",expand=True)\n",
    "print(tmp_df)\n",
    "tmp_df.columns = ['sex', 'hours_lower','hours_upper']\n",
    "\n",
    "tmp_df['time'] = tmp_df['hours_lower'] + '-' + tmp_df['hours_upper']\n",
    "\n",
    "df = pd.concat([df, tmp_df],axis=1)\n",
    "\n",
    "df = df.drop(['sex_and_time','hours_lower','hours_upper'], axis=1)\n",
    "df = df.replace('-',np.nan)\n",
    "df = df.dropna()\n",
    "df.to_csv('output.csv',index=False)\n",
    "print(df)"
   ]
  },
  {
   "attachments": {},
   "cell_type": "markdown",
   "metadata": {},
   "source": [
    "add column"
   ]
  },
  {
   "cell_type": "code",
   "execution_count": 265,
   "metadata": {},
   "outputs": [
    {
     "name": "stdout",
     "output_type": "stream",
     "text": [
      "      id   age weight Firstname Lastname Pulserate sex   time\n",
      "0    1.0  56.0  70kgs     Micky     Mous        72   m  00-06\n",
      "12   1.0  56.0  70kgs     Micky     Mous        69   m  06-12\n",
      "24   1.0  56.0  70kgs     Micky     Mous        71   m  12-18\n",
      "37   2.0  34.0  70kgs    Donald     Duck        85   f  00-06\n",
      "49   2.0  34.0  70kgs    Donald     Duck        84   f  06-12\n",
      "61   2.0  34.0  70kgs    Donald     Duck        76   f  12-18\n",
      "40   5.0  54.0  90kgs      Pink  Panther        69   f  00-06\n",
      "64   5.0  54.0  90kgs      Pink  Panther        75   f  12-18\n",
      "41   6.0  52.0  85kgs      Huey   McDuck        68   f  00-06\n",
      "53   6.0  52.0  85kgs      Huey   McDuck        75   f  06-12\n",
      "65   6.0  52.0  85kgs      Huey   McDuck        72   f  12-18\n",
      "42   7.0  19.0  56kgs     Dewey   McDuck        71   f  00-06\n",
      "54   7.0  19.0  56kgs     Dewey   McDuck        78   f  06-12\n",
      "66   7.0  19.0  56kgs     Dewey   McDuck        75   f  12-18\n",
      "7    8.0  32.0  78kgs      Scpy      Doo        78   m  00-06\n",
      "19   8.0  32.0  78kgs      Scpy      Doo        76   m  06-12\n",
      "31   8.0  32.0  78kgs      Scpy      Doo        75   m  12-18\n",
      "44  10.0  12.0  45kgs     Louie   McDuck        92   f  00-06\n",
      "56  10.0  12.0  45kgs     Louie   McDuck        95   f  06-12\n",
      "68  10.0  12.0  45kgs     Louie   McDuck        87   f  12-18\n"
     ]
    }
   ],
   "source": [
    "df['age'].fillna(df['age'].mean(),inplace=True)\n",
    "print(df)"
   ]
  }
 ],
 "metadata": {
  "kernelspec": {
   "display_name": "Python 3",
   "language": "python",
   "name": "python3"
  },
  "language_info": {
   "codemirror_mode": {
    "name": "ipython",
    "version": 3
   },
   "file_extension": ".py",
   "mimetype": "text/x-python",
   "name": "python",
   "nbconvert_exporter": "python",
   "pygments_lexer": "ipython3",
   "version": "3.10.6"
  },
  "orig_nbformat": 4
 },
 "nbformat": 4,
 "nbformat_minor": 2
}
